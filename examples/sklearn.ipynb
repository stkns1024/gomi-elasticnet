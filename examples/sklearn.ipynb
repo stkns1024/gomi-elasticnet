{
 "cells": [
  {
   "cell_type": "code",
   "execution_count": 1,
   "id": "05ed176d",
   "metadata": {},
   "outputs": [],
   "source": [
    "from sklearn.datasets import load_diabetes\n",
    "from sklearn.model_selection import train_test_split\n",
    "from sklearn.linear_model import ElasticNet\n",
    "from sklearn.preprocessing import StandardScaler\n",
    "from sklearn.pipeline import make_pipeline\n",
    "from sklearn.metrics import mean_squared_error\n",
    "\n",
    "from gmelasticnet.sklearn import ElasticNet as GomiElasticNet"
   ]
  },
  {
   "cell_type": "code",
   "execution_count": 2,
   "id": "5530788d",
   "metadata": {},
   "outputs": [],
   "source": [
    "diabetes = load_diabetes()\n",
    "X_train, X_val, y_train, y_val = train_test_split(\n",
    "    diabetes.data, diabetes.target, test_size=0.2, random_state=42, shuffle=True\n",
    ")"
   ]
  },
  {
   "cell_type": "code",
   "execution_count": 3,
   "id": "27afd980",
   "metadata": {},
   "outputs": [
    {
     "data": {
      "text/plain": [
       "2855.0762088998126"
      ]
     },
     "execution_count": 3,
     "metadata": {},
     "output_type": "execute_result"
    }
   ],
   "source": [
    "model = make_pipeline(\n",
    "    StandardScaler(),\n",
    "    ElasticNet(alpha=0.2, l1_ratio=0.5, max_iter=1000, tol=1e-4, random_state=42),\n",
    ")\n",
    "model.fit(X_train, y_train)\n",
    "pred_val = model.predict(X_val)\n",
    "\n",
    "mean_squared_error(y_val, pred_val)"
   ]
  },
  {
   "cell_type": "code",
   "execution_count": 4,
   "id": "8a5b46c2",
   "metadata": {},
   "outputs": [
    {
     "data": {
      "text/plain": [
       "2855.091474380149"
      ]
     },
     "execution_count": 4,
     "metadata": {},
     "output_type": "execute_result"
    }
   ],
   "source": [
    "model = GomiElasticNet(l1=0.1, l2=0.1, max_iter=1000, tol=1e-4, random_state=42)\n",
    "model.fit(X_train, y_train)\n",
    "pred_val = model.predict(X_val)\n",
    "\n",
    "mean_squared_error(y_val, pred_val)"
   ]
  }
 ],
 "metadata": {
  "kernelspec": {
   "display_name": "Python 3 (ipykernel)",
   "language": "python",
   "name": "python3"
  },
  "language_info": {
   "codemirror_mode": {
    "name": "ipython",
    "version": 3
   },
   "file_extension": ".py",
   "mimetype": "text/x-python",
   "name": "python",
   "nbconvert_exporter": "python",
   "pygments_lexer": "ipython3",
   "version": "3.9.2"
  }
 },
 "nbformat": 4,
 "nbformat_minor": 5
}
